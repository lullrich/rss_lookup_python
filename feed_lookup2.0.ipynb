{
 "cells": [
  {
   "cell_type": "code",
   "execution_count": 8,
   "metadata": {
    "collapsed": false
   },
   "outputs": [],
   "source": [
    "import requests\n",
    "from requests_futures.sessions import FuturesSession\n",
    "import re\n",
    "import pandas as pd\n",
    "from bs4 import BeautifulSoup, SoupStrainer\n",
    "from urllib.parse import urldefrag, urlparse, urljoin, urlsplit, urlunsplit\n",
    "session = FuturesSession()\n",
    "urls = pd.read_csv(\"urls.csv\", sep=\"\\t\", names=[\"url\"])"
   ]
  },
  {
   "cell_type": "code",
   "execution_count": 2,
   "metadata": {
    "collapsed": false
   },
   "outputs": [],
   "source": [
    "def get_response(url):\n",
    "    try:\n",
    "        res = requests.get(url)\n",
    "        if (res.ok):\n",
    "            print(\"Status %s\" % (res.status_code))\n",
    "            return res\n",
    "        else:\n",
    "            res.raise_for_status()\n",
    "            \n",
    "    except Exception as e:\n",
    "        print(url, e)\n",
    "\n",
    "\n",
    "def parse_content(res_object):\n",
    "    if (res_object):\n",
    "        parse_only = SoupStrainer([\"a\", \"link\", \"meta\"])\n",
    "        s = BeautifulSoup(res_object.content, \"lxml\", parse_only=parse_only)\n",
    "        return s\n",
    "    else:\n",
    "        return False;\n",
    "\n",
    "def get_urls(parsed_html, element=\"\"):\n",
    "    if (parsed_html):\n",
    "        pattern = re.compile(u\"(rss)|([./\\+]xml$)|(xml;.*)\", flags=re.I)\n",
    "        reject_pattern = re.compile(u\"(\\/comments\\/)\", flags=re.I)\n",
    "        links = (alink.get(\"href\")\n",
    "                 for alink in parsed_html.findAll(element)\n",
    "                 if re.findall(pattern, str(alink)) \n",
    "                 and not re.findall(reject_pattern, str(alink)))\n",
    "        return links\n",
    "    else:\n",
    "        return []\n",
    "\n",
    "def parse_properties_attrs(parsed_html):\n",
    "    if (parsed_html):\n",
    "        try:\n",
    "            metas = {attrs[\"property\"]: attrs[\"content\"] for attrs in \n",
    "                     [meta.attrs for meta in parsed_html.findAll(\"meta\") \n",
    "                      if \"property=\" in str(meta)]}\n",
    "            return metas\n",
    "        except Exception as e:\n",
    "            print(e)\n",
    "            return None\n",
    "    else:\n",
    "        return None\n",
    "    \n",
    "def parse_named_attrs(parsed_html):\n",
    "    if (parsed_html):\n",
    "        try:\n",
    "            metas = {attrs[\"name\"]: attrs[\"content\"] for attrs in \n",
    "                     [meta.attrs for meta in parsed_html.findAll(\"meta\") \n",
    "                      if \"name=\" in str(meta)]}\n",
    "            return metas\n",
    "        except Exception as e:\n",
    "            print(e)\n",
    "            return None\n",
    "    else:\n",
    "        return None\n",
    "    \n",
    "def check_feed_response(url):\n",
    "    if (url):\n",
    "        try:\n",
    "            res = requests.get(url)\n",
    "            print(res)\n",
    "            if (res.ok):\n",
    "                return res.headers[\"content-type\"]\n",
    "            else:\n",
    "                res.raise_for_status()\n",
    "        except Exception as e:\n",
    "            print(e)\n",
    "            return res.status_code\n",
    "    else:\n",
    "        return None\n",
    "    \n",
    "def get_site_info(url):\n",
    "    site_info = {\"url\": url}\n",
    "    print(\"%s: \\nGetting response...\" % (url))\n",
    "    res = get_response(url)\n",
    "    print(\"Parsing content...\")\n",
    "    html = parse_content(res)\n",
    "    site_info[\"rss_links\"] = list(set(get_urls(html, \"link\")))\n",
    "    site_info[\"rss_links\"] = [urljoin(url, link, allow_fragments=False) for link in site_info[\"rss_links\"]]\n",
    "    site_info[\"rss_leads\"] = set(get_urls(html, \"a\"))\n",
    "    site_info[\"rss_leads\"] = (urljoin(url, link, allow_fragments=False) for link in site_info[\"rss_leads\"])\n",
    "    site_info[\"rss_leads\"] = [link for link in site_info[\"rss_leads\"] if link not in site_info[\"rss_links\"]]\n",
    "    print(\"found %d RSS feed(s) and %d link(s) to possible feeds\" % \n",
    "          (len(site_info[\"rss_links\"]), len(site_info[\"rss_leads\"])))\n",
    "    site_info[\"meta_properties\"] = parse_properties_attrs(html)\n",
    "    site_info[\"meta_named\"] = parse_named_attrs(html)\n",
    "    \n",
    "    return site_info"
   ]
  },
  {
   "cell_type": "code",
   "execution_count": 3,
   "metadata": {
    "collapsed": false
   },
   "outputs": [],
   "source": [
    "def get_domain_link(url):\n",
    "    scheme, netloc = urlsplit(url)[:2]\n",
    "    link = urlunsplit((scheme, netloc,\"\", \"\", \"\"))\n",
    "    return link\n",
    "\n",
    "res = requests.get(\"https://news.google.com/news?cf=all&pz=1&ned=uk&siidp=d99c9ccef53edd7975a8b314decb9a979877&ict=ln\")\n",
    "s = BeautifulSoup(res.content,\"lxml\")\n",
    "links = [a.get(\"href\") for a in s.findAll(\"a\") if not (re.findall(u\"google\\.com\", str(a.get(\"href\"))) or not str(a.get(\"href\")).startswith(\"http\"))]\n",
    "links = pd.Series(([get_domain_link(link) for link in links]))\n",
    "links = links.drop_duplicates()\n",
    "links = links.loc[links != b'',]"
   ]
  },
  {
   "cell_type": "code",
   "execution_count": 4,
   "metadata": {
    "collapsed": false
   },
   "outputs": [],
   "source": [
    "links.to_csv(\"glinks.csv\", sep=\"\\t\", encoding=\"UTF-8\")"
   ]
  },
  {
   "cell_type": "code",
   "execution_count": 6,
   "metadata": {
    "collapsed": false
   },
   "outputs": [],
   "source": [
    "dict_list = (get_site_info(url) for url in links[79:99])"
   ]
  },
  {
   "cell_type": "code",
   "execution_count": 7,
   "metadata": {
    "collapsed": false
   },
   "outputs": [
    {
     "name": "stdout",
     "output_type": "stream",
     "text": [
      "http://www.techtimes.com: \n",
      "Getting response...\n",
      "Status 200\n",
      "Parsing content...\n",
      "found 1 RSS feed(s) and 1 link(s) to possible feeds\n",
      "http://www.stroudnewsandjournal.co.uk: \n",
      "Getting response...\n",
      "Status 200\n",
      "Parsing content...\n",
      "found 0 RSS feed(s) and 1 link(s) to possible feeds\n",
      "http://www.gazetteseries.co.uk: \n",
      "Getting response...\n",
      "Status 200\n",
      "Parsing content...\n",
      "found 0 RSS feed(s) and 1 link(s) to possible feeds\n",
      "http://www.bristolpost.co.uk: \n",
      "Getting response...\n",
      "http://www.bristolpost.co.uk 404 Client Error: Not Found for url: http://www.bristolpost.co.uk/\n",
      "Parsing content...\n",
      "found 0 RSS feed(s) and 0 link(s) to possible feeds\n",
      "http://www.dorsetecho.co.uk: \n",
      "Getting response...\n",
      "Status 200\n",
      "Parsing content...\n",
      "found 0 RSS feed(s) and 1 link(s) to possible feeds\n",
      "http://www.miltonkeynes.co.uk: \n",
      "Getting response...\n",
      "Status 200\n",
      "Parsing content...\n",
      "found 4 RSS feed(s) and 0 link(s) to possible feeds\n",
      "http://www.weather.com: \n",
      "Getting response...\n",
      "Status 200\n",
      "Parsing content...\n",
      "found 0 RSS feed(s) and 0 link(s) to possible feeds\n",
      "'content'\n",
      "http://www.wunderground.com: \n",
      "Getting response...\n",
      "Status 200\n",
      "Parsing content...\n",
      "found 0 RSS feed(s) and 0 link(s) to possible feeds\n",
      "http://googleonex.accuweather.com: \n",
      "Getting response...\n",
      "Status 200\n",
      "Parsing content...\n",
      "found 0 RSS feed(s) and 0 link(s) to possible feeds\n",
      "http://www.petrolplaza.com: \n",
      "Getting response...\n",
      "Status 200\n",
      "Parsing content...\n",
      "found 0 RSS feed(s) and 1 link(s) to possible feeds\n",
      "https://www.property-magazine.eu: \n",
      "Getting response...\n",
      "Status 200\n",
      "Parsing content...\n",
      "found 0 RSS feed(s) and 0 link(s) to possible feeds\n",
      "http://www.thelocal.de: \n",
      "Getting response...\n",
      "Status 200\n",
      "Parsing content...\n",
      "found 1 RSS feed(s) and 0 link(s) to possible feeds\n",
      "https://www.babble.com: \n",
      "Getting response...\n",
      "Status 200\n",
      "Parsing content...\n",
      "found 0 RSS feed(s) and 0 link(s) to possible feeds\n",
      "http://www.vox.com: \n",
      "Getting response...\n",
      "Status 200\n",
      "Parsing content...\n",
      "found 2 RSS feed(s) and 0 link(s) to possible feeds\n",
      "http://www.politico.com: \n",
      "Getting response...\n",
      "Status 200\n",
      "Parsing content...\n",
      "found 1 RSS feed(s) and 1 link(s) to possible feeds\n",
      "http://www.ibtimes.co.uk: \n",
      "Getting response...\n",
      "Status 200\n",
      "Parsing content...\n",
      "found 0 RSS feed(s) and 1 link(s) to possible feeds\n",
      "http://www.heraldsun.com.au: \n",
      "Getting response...\n",
      "Status 200\n",
      "Parsing content...\n",
      "found 1 RSS feed(s) and 1 link(s) to possible feeds\n",
      "http://www.euronews.com: \n",
      "Getting response...\n",
      "Status 200\n",
      "Parsing content...\n",
      "found 1 RSS feed(s) and 1 link(s) to possible feeds\n",
      "http://www.usnews.com: \n",
      "Getting response...\n",
      "Status 200\n",
      "Parsing content...\n",
      "found 1 RSS feed(s) and 0 link(s) to possible feeds\n",
      "http://indianexpress.com: \n",
      "Getting response...\n",
      "Status 200\n",
      "Parsing content...\n",
      "found 0 RSS feed(s) and 2 link(s) to possible feeds\n",
      "CPU times: user 2.59 s, sys: 64 ms, total: 2.66 s\n",
      "Wall time: 13.3 s\n"
     ]
    }
   ],
   "source": [
    "%time dicts = list(dict_list)"
   ]
  },
  {
   "cell_type": "code",
   "execution_count": 62,
   "metadata": {
    "collapsed": false
   },
   "outputs": [
    {
     "data": {
      "text/plain": [
       "[{'meta_named': None,\n",
       "  'meta_properties': None,\n",
       "  'rss_leads': [],\n",
       "  'rss_links': [],\n",
       "  'url': 'http://www.sevenoakschronicle.co.uk'},\n",
       " {'meta_named': {'description': 'The Bolton News, sport, Wanderers',\n",
       "   'google-site-verification': '1fkS6UJOMYtA_lZ3vedEj4vPB0rUa4YXGe5SYvO7VgQ',\n",
       "   'keywords': 'Bolton, News, Sport, Wanderers, Crime, Politics, Health, Education, Business, Leisure, Video, Videos, Photos, Photographs, Pictures, Neil Lennon, Phil Gartside',\n",
       "   'msvalidate.01': '7C7F57AF0404D89F1BA6816F067C009A',\n",
       "   'title': 'The Bolton News. First for news and sport in Bolton.',\n",
       "   'viewport': 'width=device-width, initial-scale=1.0, user-scalable=yes',\n",
       "   'vr:category': 'News',\n",
       "   'vr:type': 'Text',\n",
       "   'y_key': 'y_key\" content=\"809215ec9b977b45'},\n",
       "  'meta_properties': {'fb:app_id': '100403180042168'},\n",
       "  'rss_leads': ['http://www.theboltonnews.co.uk/rss/'],\n",
       "  'rss_links': [],\n",
       "  'url': 'http://www.theboltonnews.co.uk'},\n",
       " {'meta_named': {'description': 'Medical news and health news headlines posted throughout the day, every day',\n",
       "   'rating': 'general',\n",
       "   'twitter:card': 'summary',\n",
       "   'twitter:creator': '@mnt',\n",
       "   'twitter:description': 'Medical news and health news headlines posted throughout the day, every day',\n",
       "   'twitter:domain': 'medicalnewstoday.com',\n",
       "   'twitter:image:src': 'http://www.medicalnewstoday.com/structure/images/logo/logo-post.jpg',\n",
       "   'twitter:site': '@mnt',\n",
       "   'twitter:title': 'Medical News Today: The Latest Health News',\n",
       "   'viewport': 'width=device-width, initial-scale=1.0, minimum-scale=0.2, maximum-scale=2.0, user-scalable=1'},\n",
       "  'meta_properties': {'fb:admins': '1658973110',\n",
       "   'fb:app_id': '147184211975697',\n",
       "   'og:description': 'Medical news and health news headlines posted throughout the day, every day',\n",
       "   'og:image': 'http://www.medicalnewstoday.com/structure/images/logo/logo-post.jpg',\n",
       "   'og:site_name': 'Medical News Today',\n",
       "   'og:title': 'Medical News Today',\n",
       "   'og:type': 'website',\n",
       "   'twitter:account_id': '4503599628359111'},\n",
       "  'rss_leads': [],\n",
       "  'rss_links': ['http://rss.medicalnewstoday.com/featurednews.xml'],\n",
       "  'url': 'http://www.medicalnewstoday.com'},\n",
       " {'meta_named': {'Author': 'Tech Times',\n",
       "   'Copyright': '2016 Tech Times',\n",
       "   'Description': 'Tech Times reports news on latest developments in the U.S. technology industry, and how business and technology intersect and impact other industries in this vast, interconnected world.',\n",
       "   'Googlebot-News': 'index, follow',\n",
       "   'Subject': 'techtimes.com',\n",
       "   'Title': 'Tech Times',\n",
       "   'google-site-verification': '2TcEHlVZXd254bQYGiPgjL2nnVFZ5NgzUO_tRUZX_EY',\n",
       "   'keyword': 'Technology news, science reports, health stories, personal technology, reviews, videos, business news,general news, arts & culture',\n",
       "   'robots': 'index, follow',\n",
       "   'viewport': 'width=1040'},\n",
       "  'meta_properties': {'fb:app_id': '1047242882033344',\n",
       "   'fb:pages': '628174447211715'},\n",
       "  'rss_leads': ['http://www.techtimes.com/rss'],\n",
       "  'rss_links': ['http://www.techtimes.com/rss/archives/archives.xml'],\n",
       "  'url': 'http://www.techtimes.com'},\n",
       " {'meta_named': {'description': \"Liverpool Echo, the very latest Liverpool and Merseyside news, sport, what's on, weather and travel. Plus the latest Liverpool FC and Everton FC news.\",\n",
       "   'google-site-verification': 'googlee4385cad0cbcb507.html'},\n",
       "  'meta_properties': {'fb:app_id': '283205808373551',\n",
       "   'fb:page_id': '124685800957368',\n",
       "   'fb:pages': '124556600943610',\n",
       "   'og:language': 'en',\n",
       "   'og:site_name': 'liverpoolecho',\n",
       "   'og:type': 'website',\n",
       "   'og:url': 'http://www.liverpoolecho.co.uk/'},\n",
       "  'rss_leads': ['http://www.liverpoolecho.co.uk/rss-feeds/'],\n",
       "  'rss_links': ['http://www.liverpoolecho.co.uk/rss.xml'],\n",
       "  'url': 'http://www.liverpoolecho.co.uk'},\n",
       " {'meta_named': {'description': \"News and sport from the Dorset Echo for Weymouth, Portland, Dorchester, West Dorset and Purbeck, what's on, as well as jobs, homes and cars\",\n",
       "   'google-site-verification': 'J1ylyFVL-0XK1RVvvAty3vPeP4TiYt0P01eJ_E3621Q',\n",
       "   'keywords': \"Dorset, Portland, Weymouth, Dorchester, news, sport, Terras, Portland Bill, Lyme Regis, Magpies, what's on, Purbeck, Broadchurch,Dorchester Town FC, Weymouth Carnival, Poundbury, Bridport FC\",\n",
       "   'msvalidate.01': '7C7F57AF0404D89F1BA6816F067C009A',\n",
       "   'title': \"Dorset Echo - Breaking news, sport, homes, jobs, cars and what's on in Weymouth and Portland\",\n",
       "   'viewport': 'width=device-width, initial-scale=1.0, user-scalable=yes',\n",
       "   'vr:category': 'News',\n",
       "   'vr:type': 'Text',\n",
       "   'y_key': 'y_key\" content=\"10bd770c9498bec1'},\n",
       "  'meta_properties': {'fb:app_id': '190881537612633'},\n",
       "  'rss_leads': ['http://www.dorsetecho.co.uk/rss/'],\n",
       "  'rss_links': [],\n",
       "  'url': 'http://www.dorsetecho.co.uk'},\n",
       " {'meta_named': {'adPageType': 'Hub Page',\n",
       "   'apple-mobile-web-app-capable': 'yes',\n",
       "   'build': '135',\n",
       "   'category': '',\n",
       "   'description': \"News, sport, what's on, and more, from the Milton Keynes Citizen.\",\n",
       "   'msapplication-TileColor': '#da532c',\n",
       "   'msapplication-TileImage': '/assets/images/favicons/mkc/mstile-144x144.png',\n",
       "   'msapplication-config': '/assets/images/favicons/mkc/browserconfig.xml',\n",
       "   'page path': 'Milton Keynes Citizen',\n",
       "   'page type': 'Home',\n",
       "   'responsive': 'true',\n",
       "   'robots': 'ACAP allow-index',\n",
       "   'sitename': 'Milton Keynes Citizen',\n",
       "   'theme-color': '#ffffff',\n",
       "   'viewport': 'width=device-width, initial-scale=1.0, user-scalable=0, minimum-scale=1.0, maximum-scale=1.0'},\n",
       "  'meta_properties': {},\n",
       "  'rss_leads': [],\n",
       "  'rss_links': ['http://www.miltonkeynes.co.uk/rss/cmlink/1.7341696',\n",
       "   'http://www.miltonkeynes.co.uk/rss/cmlink/1.7341642',\n",
       "   'http://www.miltonkeynes.co.uk/rss/cmlink/1.7341612',\n",
       "   'http://www.miltonkeynes.co.uk/rss/cmlink/1.7341753'],\n",
       "  'url': 'http://www.miltonkeynes.co.uk'},\n",
       " {'meta_named': None,\n",
       "  'meta_properties': {'fb:admins': '1366170436',\n",
       "   'fb:app_id': '115862191798713',\n",
       "   'fb:pages': '118071565920',\n",
       "   'og:description': 'The Weather Channel and weather.com provide a national and local weather forecast for cities, as well as weather radar, report and hurricane coverage.',\n",
       "   'og:image': 'https://s.w-x.co/240x180_twc_default.png',\n",
       "   'og:image:secure_url': 'https://s.w-x.co/240x180_twc_default.png',\n",
       "   'og:image:url': 'https://s.w-x.co/240x180_twc_default.png',\n",
       "   'og:site_name': 'The Weather Channel',\n",
       "   'og:title': 'National and Local Weather Forecast, Hurricane, Radar and Report',\n",
       "   'og:type': 'website',\n",
       "   'og:url': 'https://weather.com/'},\n",
       "  'rss_leads': [],\n",
       "  'rss_links': [],\n",
       "  'url': 'http://www.weather.com'},\n",
       " {'meta_named': None,\n",
       "  'meta_properties': None,\n",
       "  'rss_leads': [],\n",
       "  'rss_links': [],\n",
       "  'url': 'http://www.wunderground.com'},\n",
       " {'meta_named': {'author': 'AccuWeather.com : Bradley Pike : 16JAN2007',\n",
       "   'description': 'AccuWeather.com Mobile Gateway Site Selection'},\n",
       "  'meta_properties': {},\n",
       "  'rss_leads': [],\n",
       "  'rss_links': [],\n",
       "  'url': 'http://googleonex.accuweather.com'},\n",
       " {'meta_named': {'description': 'PetrolPlaza is the primary online business-to-business information source for decision makers in the petrol retailing, fuel logistics and car wash industry.',\n",
       "   'keywords': 'petrol station, fuel station, gasoline price, downstream petroleum, alternative fuels',\n",
       "   'robots': 'index,follow,archive'},\n",
       "  'meta_properties': {},\n",
       "  'rss_leads': ['http://www.petrolplaza.com/service/rss'],\n",
       "  'rss_links': [],\n",
       "  'url': 'http://www.petrolplaza.com'},\n",
       " {'meta_named': {'description': '',\n",
       "   'google-site-verification': 'rvBufxkmG1OQbfI7lEBKn6KeGQFl8Ou-60vZ_ihLJGE',\n",
       "   'keywords': '',\n",
       "   'language': 'english, en',\n",
       "   'robots': 'index, follow'},\n",
       "  'meta_properties': {},\n",
       "  'rss_leads': [],\n",
       "  'rss_links': [],\n",
       "  'url': 'https://www.property-magazine.eu'},\n",
       " {'meta_named': {'apple-itunes-app': 'app-id=1078564301',\n",
       "   'description': '',\n",
       "   'viewport': 'width=device-width, minimum-scale=1, initial-scale=1, user-scalable=yes'},\n",
       "  'meta_properties': {'fb:pages': '214435206012'},\n",
       "  'rss_leads': [],\n",
       "  'rss_links': ['http://www.thelocal.de/feeds/rss.php'],\n",
       "  'url': 'http://www.thelocal.de'},\n",
       " {'meta_named': {'viewport': 'width=device-width, initial-scale=1'},\n",
       "  'meta_properties': {'og:fb_appid': '114037015331397',\n",
       "   'og:site_name': 'POLITICO',\n",
       "   'og:title': 'Politics, Policy, Political News',\n",
       "   'og:type': 'website',\n",
       "   'og:url': 'http://www.politico.com/',\n",
       "   'twitter:card': 'summary_large_image',\n",
       "   'twitter:creator': '@politico',\n",
       "   'twitter:site': '@politico'},\n",
       "  'rss_leads': ['http://www.politico.com/rss'],\n",
       "  'rss_links': ['http://www.politico.com/rss/politicopicks.xml'],\n",
       "  'url': 'http://www.politico.com'},\n",
       " {'meta_named': {'application-name': 'FiveThirtyEight',\n",
       "   'description': 'Nate Silver’s FiveThirtyEight uses statistical analysis — hard numbers — to tell compelling stories about elections, politics, sports, science, economics and lifestyle.',\n",
       "   'generator': 'WordPress.com',\n",
       "   'google-site-verification': 'u4S1gkGQ7IEq1C4S6i3KdYNnPhtuqfsaSIeP0Qqin68',\n",
       "   'msapplication-tooltip': 'Nate Silver’s FiveThirtyEight uses statistical analysis — hard numbers — to tell compelling stories about politics, sports, science, economics and culture.',\n",
       "   'msapplication-window': 'width=device-width;height=device-height',\n",
       "   'twitter:card': 'summary',\n",
       "   'twitter:image': 'http://0.gravatar.com/blavatar/cb2459913f2d34a9135edfd3cbae1a15?s=240',\n",
       "   'twitter:maxage': '300',\n",
       "   'twitter:site': 'FiveThirtyEight',\n",
       "   'twitter:site:id': '2303751216',\n",
       "   'twitter:widgets:csp': 'on',\n",
       "   'viewport': 'width=device-width, initial-scale=1'},\n",
       "  'meta_properties': {'article:publisher': 'https://www.facebook.com/FiveThirtyEight',\n",
       "   'fb:app_id': '797620670264818',\n",
       "   'fb:pages': '687958677914631',\n",
       "   'og:description': 'Nate Silver’s FiveThirtyEight uses statistical analysis — hard numbers — to tell compelling stories about politics, sports, science, economics and culture.',\n",
       "   'og:image': 'http://0.gravatar.com/blavatar/cb2459913f2d34a9135edfd3cbae1a15?s=200&ts=1466892518',\n",
       "   'og:image:height': '200',\n",
       "   'og:image:width': '200',\n",
       "   'og:locale': 'en_US',\n",
       "   'og:site_name': 'FiveThirtyEight',\n",
       "   'og:title': 'FiveThirtyEight',\n",
       "   'og:type': 'website',\n",
       "   'og:url': 'http://fivethirtyeight.com/'},\n",
       "  'rss_leads': ['http://fivethirtyeight.com/datalab/fear-not-readers-we-have-rss-feeds/'],\n",
       "  'rss_links': ['http://fivethirtyeight.com/features/feed/'],\n",
       "  'url': 'http://fivethirtyeight.com'},\n",
       " {'meta_named': {'Author': 'IBTimes',\n",
       "   'Copyright': '2016 IBTimes',\n",
       "   'Description': 'Latest breaking news, business news from International Business Times UK Edition. Including detailed analysis and in-depth reporting.',\n",
       "   'Keywords': 'UK breaking news, latest business news, finance news, politics.',\n",
       "   'Subject': 'IBTimes UK | Latest UK News | Breaking News | Business, Technology, Political & Sport News - International Business Times UK',\n",
       "   'alexaVerifyID': '5ZExXBNmyHKab9gKgmUhODHX02c',\n",
       "   'com.silverpop.brandeddomains': 'www.pages06.net,amp.ibtimes.co.uk,e-amp.newsweek.com,e-sns.newsweek.com,europe.newsweek.com,ibtimes.co.uk,newsweek.com,sns.europe.newsweek.com,sns.ibtimes.co.uk,www.ibtimes.co.uk',\n",
       "   'google-site-verification': '8YofAf2J0W_dTnRFDMtRpwWzWMz4MPWuijiv3g46deo',\n",
       "   'msvalidate.01': 'EDE2DAEE7430E9F8354E61C08359CC52',\n",
       "   'pocket-site-verification': 'f54f51e1c9d7238bc8f4845263c07b',\n",
       "   'viewport': 'width=device-width, initial-scale=1.0'},\n",
       "  'meta_properties': {'fb:app_id': '133405490194030',\n",
       "   'og:site_name': 'International Business Times UK',\n",
       "   'og:type': 'website',\n",
       "   'og:url': 'http://www.ibtimes.co.uk/'},\n",
       "  'rss_leads': ['http://www.ibtimes.co.uk/rss'],\n",
       "  'rss_links': [],\n",
       "  'url': 'http://www.ibtimes.co.uk'},\n",
       " {'meta_named': {'description': \"Latest UK TV and radio programme listings, what's on TV tonight, TV and entertainment news from Radio Times.\",\n",
       "   'title': 'TV listings, entertainment news and film reviews'},\n",
       "  'meta_properties': {'fb:pages': '168161281074',\n",
       "   'og:site_name': 'RadioTimes'},\n",
       "  'rss_leads': ['http://www.radiotimes.com/resources/feeds/FeedManager.aspx?feedParams=content/true&feedProvider=articles&feedRenderer=rss'],\n",
       "  'rss_links': [],\n",
       "  'url': 'http://www.radiotimes.com'},\n",
       " {'meta_named': {'apple-itunes-app': 'app-id=316391924',\n",
       "   'description': 'Sky news delivers breaking news, headlines and top stories from business, politics, entertainment and more in the UK and worldwide.',\n",
       "   'google-site-verification': 'OTLQ5TxLijkBZqJn4XbLXraLDIAvPSm0-4J53H_CyDU',\n",
       "   'msapplication-TileColor': '#d9dce3',\n",
       "   'msapplication-TileImage': '/favicons/1d8ae567.mstile-144x144.png',\n",
       "   'msapplication-config': '/favicons/e75d1ba1.browserconfig.xml',\n",
       "   'theme-color': '#ffffff',\n",
       "   'twitter:app:country': 'gb',\n",
       "   'twitter:app:id:googleplay': 'com.bskyb.skynews.android',\n",
       "   'twitter:app:id:ipad': '422583124',\n",
       "   'twitter:app:id:iphone': '316391924',\n",
       "   'twitter:card': 'app',\n",
       "   'viewport': 'width=device-width, initial-scale=1'},\n",
       "  'meta_properties': {'fb:app_id': '744976955573926',\n",
       "   'og:description': 'Sky News - First for Breaking News, video, headlines, analysis and top stories from business, politics, entertainment and more in the UK and worldwide.',\n",
       "   'og:image': 'http://media.skynews.com/media/images/original/defaults/skynews_opengraph_logo.jpg',\n",
       "   'og:locale': 'en_GB',\n",
       "   'og:site_name': 'Sky News',\n",
       "   'og:title': 'Sky News - First For Breaking News From The UK And Around The World',\n",
       "   'og:url': 'http://news.sky.com/'},\n",
       "  'rss_leads': ['http://news.sky.com/info/rss'],\n",
       "  'rss_links': [],\n",
       "  'url': 'http://news.sky.com'},\n",
       " {'meta_named': {'Author': 'Reuters Editorial',\n",
       "   'DCSext.ContentChannel': 'Homepage',\n",
       "   'DCSext.ContentType': 'Homepage',\n",
       "   'DCSext.DartZone': 'in.reuters/home',\n",
       "   'DCSext.rChannel': 'Home',\n",
       "   'DCSext.rCountry': 'IN',\n",
       "   'WT.cg_n': 'Homepage',\n",
       "   'WT.cg_s': 'Homepage',\n",
       "   'description': 'Reuters India offers top Business and market news updates covering Indian Stock market news, finance, investment and more news headlines. Read breaking news from India in business, stocks, sensex, market, entertainment and more with videos, pictures, discussions & more Indian news.',\n",
       "   'keywords': 'rupee,dollar,sensex,nifty,India,shares,currencies,commodities',\n",
       "   'robots': 'INDEX, FOLLOW',\n",
       "   'site edition': 'Reuters India',\n",
       "   'twitter:card': 'summary_large_image',\n",
       "   'twitter:creator': '@ReutersIndia',\n",
       "   'twitter:description': 'Reuters India offers top Business and market news updates covering Indian Stock market news, finance, investment and more news headlines. Read breaking news from India in business, stocks, sensex, market, entertainment and more with videos, pictures, discussions & more Indian news.',\n",
       "   'twitter:site': '@ReutersIndia',\n",
       "   'viewport': 'width=device-width'},\n",
       "  'meta_properties': {'article:publisher': 'https://www.facebook.com/india.reuters',\n",
       "   'og:description': 'Reuters India offers top Business and market news updates covering Indian Stock market news, finance, investment and more news headlines. Read breaking news from India in business, stocks, sensex, market, entertainment and more with videos, pictures, discussions & more Indian news.',\n",
       "   'og:image': 'http://s3.reutersmedia.net/resources_v2/images/rcom-default.png',\n",
       "   'og:locale': 'en_IN',\n",
       "   'og:site_name': 'Reuters India',\n",
       "   'og:title': 'Business News - Indian Stock Market, Stock Market News, Business & Finance, Market Statistics | Reuters India',\n",
       "   'og:type': 'section',\n",
       "   'og:url': 'http://in.reuters.com/'},\n",
       "  'rss_leads': ['http://in.reuters.com/tools/rss'],\n",
       "  'rss_links': [],\n",
       "  'url': 'http://in.reuters.com'},\n",
       " {'meta_named': {'generator': 'blogger',\n",
       "   'twitter:card': 'summary',\n",
       "   'twitter:creator': '@google',\n",
       "   'viewport': 'width=device-width, height=device-height, minimum-scale=1.0, initial-scale=1.0, user-scalable=0'},\n",
       "  'meta_properties': {'og:locale': 'en_US',\n",
       "   'og:site_name': 'Google News Blog',\n",
       "   'og:title': 'Google News Blog',\n",
       "   'og:url': 'https://news.googleblog.com/'},\n",
       "  'rss_leads': [],\n",
       "  'rss_links': ['https://news.googleblog.com/feeds/posts/default?alt=rss'],\n",
       "  'url': 'http://googlenewsblog.blogspot.com'}]"
      ]
     },
     "execution_count": 62,
     "metadata": {},
     "output_type": "execute_result"
    }
   ],
   "source": [
    "dicts"
   ]
  },
  {
   "cell_type": "code",
   "execution_count": null,
   "metadata": {
    "collapsed": false
   },
   "outputs": [],
   "source": [
    "df = urls[10:20].copy()\n",
    "df[\"content\"] = df[\"url\"].apply(get_response).apply(parse_content)\n",
    "df[\"links\"] = df[\"content\"].apply(get_urls, element = \"link\").apply(list)\n",
    "df[\"leads\"] = df[\"content\"].apply(get_urls, element = \"a\").apply(list)"
   ]
  },
  {
   "cell_type": "code",
   "execution_count": null,
   "metadata": {
    "collapsed": false
   },
   "outputs": [],
   "source": [
    "f = df.apply(lambda x: pd.Series(x['links']),axis=1).stack().reset_index(level=1, drop=True)\n",
    "f.name = 'links'\n",
    "df = df.drop('links', axis=1).join(f)\n",
    "f = df.apply(lambda x: pd.Series(x['leads']),axis=1).stack().reset_index(level=1, drop=True)\n",
    "f.name = 'leads'\n",
    "df = df.drop('leads', axis=1).join(f)"
   ]
  },
  {
   "cell_type": "code",
   "execution_count": null,
   "metadata": {
    "collapsed": false
   },
   "outputs": [],
   "source": [
    "df = df.drop_duplicates()\n",
    "df = df.fillna(\"\")\n",
    "df[\"url\"] = df[\"url\"].str.rstrip(\"/\")\n",
    "df[\"links\"] = df[\"links\"].str.rstrip(\"/\")\n",
    "df[\"leads\"] = df[\"leads\"].str.rstrip(\"/\")"
   ]
  },
  {
   "cell_type": "code",
   "execution_count": null,
   "metadata": {
    "collapsed": false
   },
   "outputs": [],
   "source": [
    "df[\"links\"] = df.apply(lambda x: urljoin(x[\"url\"], str(x[\"links\"])), axis=1)\n",
    "df[\"leads\"] = df.apply(lambda x: urljoin(x[\"url\"], str(x[\"leads\"])), axis=1)"
   ]
  },
  {
   "cell_type": "code",
   "execution_count": null,
   "metadata": {
    "collapsed": false
   },
   "outputs": [],
   "source": [
    "df[\"link_type\"] = df[\"links\"].apply(check_feed_response) "
   ]
  },
  {
   "cell_type": "code",
   "execution_count": null,
   "metadata": {
    "collapsed": false
   },
   "outputs": [],
   "source": [
    "df"
   ]
  },
  {
   "cell_type": "code",
   "execution_count": null,
   "metadata": {
    "collapsed": false
   },
   "outputs": [],
   "source": [
    "df.to_csv(\"test.csv\", sep=\"\\t\", encoding=\"UTF-8\")"
   ]
  },
  {
   "cell_type": "code",
   "execution_count": null,
   "metadata": {
    "collapsed": false
   },
   "outputs": [],
   "source": [
    "df[\"test\"] = df[\"links\"] != df[\"leads\"]"
   ]
  },
  {
   "cell_type": "code",
   "execution_count": null,
   "metadata": {
    "collapsed": false
   },
   "outputs": [],
   "source": [
    "df[\"og\"] = df[\"content\"].apply(parse_opengraph_attrs)"
   ]
  },
  {
   "cell_type": "code",
   "execution_count": null,
   "metadata": {
    "collapsed": false
   },
   "outputs": [],
   "source": [
    "df"
   ]
  },
  {
   "cell_type": "code",
   "execution_count": null,
   "metadata": {
    "collapsed": false
   },
   "outputs": [],
   "source": [
    "dicts"
   ]
  },
  {
   "cell_type": "code",
   "execution_count": null,
   "metadata": {
    "collapsed": true
   },
   "outputs": [],
   "source": []
  },
  {
   "cell_type": "code",
   "execution_count": null,
   "metadata": {
    "collapsed": true
   },
   "outputs": [],
   "source": []
  },
  {
   "cell_type": "code",
   "execution_count": null,
   "metadata": {
    "collapsed": true
   },
   "outputs": [],
   "source": []
  },
  {
   "cell_type": "code",
   "execution_count": null,
   "metadata": {
    "collapsed": true
   },
   "outputs": [],
   "source": []
  },
  {
   "cell_type": "code",
   "execution_count": null,
   "metadata": {
    "collapsed": true
   },
   "outputs": [],
   "source": []
  },
  {
   "cell_type": "code",
   "execution_count": null,
   "metadata": {
    "collapsed": true
   },
   "outputs": [],
   "source": []
  },
  {
   "cell_type": "code",
   "execution_count": null,
   "metadata": {
    "collapsed": true
   },
   "outputs": [],
   "source": []
  },
  {
   "cell_type": "code",
   "execution_count": null,
   "metadata": {
    "collapsed": true
   },
   "outputs": [],
   "source": []
  },
  {
   "cell_type": "code",
   "execution_count": null,
   "metadata": {
    "collapsed": true
   },
   "outputs": [],
   "source": []
  },
  {
   "cell_type": "code",
   "execution_count": null,
   "metadata": {
    "collapsed": true
   },
   "outputs": [],
   "source": []
  },
  {
   "cell_type": "code",
   "execution_count": null,
   "metadata": {
    "collapsed": true
   },
   "outputs": [],
   "source": []
  },
  {
   "cell_type": "code",
   "execution_count": null,
   "metadata": {
    "collapsed": true
   },
   "outputs": [],
   "source": []
  },
  {
   "cell_type": "code",
   "execution_count": null,
   "metadata": {
    "collapsed": true
   },
   "outputs": [],
   "source": []
  },
  {
   "cell_type": "code",
   "execution_count": null,
   "metadata": {
    "collapsed": true
   },
   "outputs": [],
   "source": []
  }
 ],
 "metadata": {
  "kernelspec": {
   "display_name": "Python 3",
   "language": "python",
   "name": "python3"
  },
  "language_info": {
   "codemirror_mode": {
    "name": "ipython",
    "version": 3
   },
   "file_extension": ".py",
   "mimetype": "text/x-python",
   "name": "python",
   "nbconvert_exporter": "python",
   "pygments_lexer": "ipython3",
   "version": "3.5.1"
  }
 },
 "nbformat": 4,
 "nbformat_minor": 0
}
